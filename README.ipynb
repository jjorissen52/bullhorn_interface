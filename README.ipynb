{
 "cells": [
  {
   "cell_type": "markdown",
   "metadata": {},
   "source": [
    "# Description\n",
    "This package facilitates the usage of Bullhorn's developer API.\n",
    "\n",
    "## Features\n",
    "\n",
    "* Handles [Authorization](#login_token)\n",
    "    * [Stored](#no_plaintext) Credentials Optional\n",
    "* Handles Tokens\n",
    "    * [Granting](#login_token)\n",
    "    * [Storing](#databases)\n",
    "    * Auto Refresh Expired Tokens\n",
    "* Facilitates Simple [Concurrency](#creation) \n",
    "* Works in Windows (Please no flash photography)\n"
   ]
  },
  {
   "cell_type": "markdown",
   "metadata": {},
   "source": [
    "# Setup"
   ]
  },
  {
   "cell_type": "markdown",
   "metadata": {},
   "source": [
    "## Environment\n",
    "\n",
    "#### Linux\n",
    "Create environment using anaconda or whatever and activate it:"
   ]
  },
  {
   "cell_type": "code",
   "execution_count": null,
   "metadata": {
    "collapsed": true
   },
   "outputs": [],
   "source": [
    "conda create -n bullhorn3.6\n",
    "source activate bullhorn3.6\n",
    "pip install -r /path/to/project_root/requirements.txt"
   ]
  },
  {
   "cell_type": "markdown",
   "metadata": {},
   "source": [
    "\n",
    "#### Windows (Anaconda)\n",
    "Same as above, but you will need to perform"
   ]
  },
  {
   "cell_type": "code",
   "execution_count": null,
   "metadata": {
    "collapsed": true
   },
   "outputs": [],
   "source": [
    "conda install psycopg2\n",
    "conda install sqlalchemy"
   ]
  },
  {
   "cell_type": "markdown",
   "metadata": {},
   "source": [
    "afterwards, as there are some dependencies that Anaconda has to work out to make these packages work on Windows. I highly recommend you use Anaconda in windows, as it will handle all the nasty c bits that numerous python packages require."
   ]
  },
  {
   "cell_type": "markdown",
   "metadata": {},
   "source": [
    "<a id=\"configuration\"></a>\n",
    "## Configuration"
   ]
  },
  {
   "cell_type": "markdown",
   "metadata": {},
   "source": [
    "There needs to be a file named `bullhorn_interface.conf` that looks like this somewhere on your system:"
   ]
  },
  {
   "cell_type": "code",
   "execution_count": null,
   "metadata": {
    "collapsed": true
   },
   "outputs": [],
   "source": [
    "[bullhorn_interface]\n",
    "TOKEN_HANDLER = [pick from 'live', 'pg', or 'sqlite']\n",
    "CLIENT_ID = client_id\n",
    "CLIENT_SECRET = client_secret\n",
    "BULLHORN_USERNAME = username\n",
    "BULLHORN_PASSWORD = password\n",
    "EMAIL_ADDRESS = email@email.com\n",
    "EMAIL_PASSWORD = password\n",
    "DB_NAME = bullhorn_box\n",
    "DB_HOST = localhost\n",
    "DB_USER = db_user\n",
    "DB_PASSWORD = password"
   ]
  },
  {
   "cell_type": "markdown",
   "metadata": {},
   "source": [
    "If this file lives in your working directory you are good to go. If not, you will need to set an environment variable to the full path of this file. Note that you can leave each of these lines blank if you are not comfortable storing items in plaintext, but none of the test will pass if vital items are left blank. See [here](#no_plaintext) about how to use the interface without storing credentials in plain text.\n",
    "\n",
    "#### Linux"
   ]
  },
  {
   "cell_type": "code",
   "execution_count": null,
   "metadata": {
    "collapsed": true
   },
   "outputs": [],
   "source": [
    "export INTERFACE_CONF_FILE=/home/jjorissen/bullhorn_secrets.conf"
   ]
  },
  {
   "cell_type": "markdown",
   "metadata": {},
   "source": [
    "#### Windows"
   ]
  },
  {
   "cell_type": "code",
   "execution_count": null,
   "metadata": {
    "collapsed": true
   },
   "outputs": [],
   "source": [
    "set INTERFACE_CONF_FILE=/full/path/to/bullhorn_secrets.conf"
   ]
  },
  {
   "cell_type": "markdown",
   "metadata": {},
   "source": [
    "To test your current configuration you can do:"
   ]
  },
  {
   "cell_type": "code",
   "execution_count": 3,
   "metadata": {
    "collapsed": true
   },
   "outputs": [],
   "source": [
    "# this cannot be run in jupyter notebooks, sadly.\n",
    "from bullhorn_interface import tests\n",
    "tests.run()"
   ]
  },
  {
   "cell_type": "markdown",
   "metadata": {},
   "source": [
    "If you want to run a full coverage test (for even the features you aren't configured for) you can set the below environment variable first."
   ]
  },
  {
   "cell_type": "code",
   "execution_count": null,
   "metadata": {
    "collapsed": true
   },
   "outputs": [],
   "source": [
    "export TEST_FULL_COVERAGE=1 # it's actually not quite full coverage, sorry."
   ]
  },
  {
   "cell_type": "markdown",
   "metadata": {},
   "source": [
    "Developers, you can run the below to test the coverage."
   ]
  },
  {
   "cell_type": "code",
   "execution_count": null,
   "metadata": {
    "collapsed": true
   },
   "outputs": [],
   "source": [
    "sudo apt-get install coverage\n",
    "coverage run -m unittest discover -s bullhorn_interface/\n",
    "#inline summary\n",
    "coverage report -m\n",
    "# generate browser navigable summary\n",
    "coverage html"
   ]
  },
  {
   "cell_type": "markdown",
   "metadata": {},
   "source": [
    "### If you change your configuration file after loading either the testing or the api library, you must reload `bullhorn_interface` to make these changes propogate or the package will continue using the old configurations."
   ]
  },
  {
   "cell_type": "code",
   "execution_count": 20,
   "metadata": {},
   "outputs": [
    {
     "data": {
      "text/plain": [
       "<module 'bullhorn_interface.tests' from '/home/jjorissen/Projects/bullhorn_interface/bullhorn_interface/tests.py'>"
      ]
     },
     "execution_count": 20,
     "metadata": {},
     "output_type": "execute_result"
    }
   ],
   "source": [
    "import importlib\n",
    "from bullhorn_interface import api, tests\n",
    "importlib.reload(api)\n",
    "importlib.reload(tests)"
   ]
  },
  {
   "cell_type": "markdown",
   "metadata": {},
   "source": [
    "<a id=\"databases\"></a>\n",
    "# Using Postgres or SQLite"
   ]
  },
  {
   "cell_type": "markdown",
   "metadata": {},
   "source": [
    "## Database Setup\n",
    "#### Note: If you are using PG, your `DB_USER` must have access to the 'postgres' database on your postgreSQL server, and must have sufficient permissions to create and edit databases. \n",
    "To create a database to house your tokens:"
   ]
  },
  {
   "cell_type": "code",
   "execution_count": 7,
   "metadata": {},
   "outputs": [
    {
     "name": "stdout",
     "output_type": "stream",
     "text": [
      "bullhorn_box created successfully.\n"
     ]
    }
   ],
   "source": [
    "from bullhorn_interface.api import tokenbox\n",
    "tokenbox.create_database() "
   ]
  },
  {
   "cell_type": "markdown",
   "metadata": {},
   "source": [
    "If you wish to drop that database for some reason:"
   ]
  },
  {
   "cell_type": "code",
   "execution_count": 8,
   "metadata": {},
   "outputs": [
    {
     "name": "stdout",
     "output_type": "stream",
     "text": [
      "Database named bullhorn_box will be destroyed in 5...4...3...2...1...0\n",
      "bullhorn_box dropped successfully.\n"
     ]
    }
   ],
   "source": [
    "tokenbox.destroy_database()"
   ]
  },
  {
   "cell_type": "markdown",
   "metadata": {},
   "source": [
    "It's that easy. The necessary tables will be created automatically when the tokens are generated for the first time, so don't sweat anything! For more information on using `tokenbox`, visit the [repo](https://github.com/jjorissen52/tokenbox)."
   ]
  },
  {
   "cell_type": "markdown",
   "metadata": {},
   "source": [
    "<a id=\"creation\"></a>\n",
    "# Interface Creation\n",
    "`bullhorn_interface` interacts will Bullhorn's API using `Interface` objects. \n",
    "* [`LiveInterface`](#liveinterface) keeps tokens on itself. These guys should always be created as [`independent`](#independent_explanation), as `LiveInterface` objects are capable of refreshing expired tokens only for themselves.\n",
    "<a id=\"storedinterface_reasons\"></a>\n",
    "* [`StoredInterface`](#storedinterface) keeps tokens on itself and also checks tokens in the database before allowing a refresh to happen. This allows you to use the same token among many interfaces in case you need to have many running at once. \n",
    "    * Bullhorn doesn't seem to mind if you have numerous API logins running simultaneously, so there isn't much utility to the `StoredInterface`. However, in the case where you are creating new `Interface` objects frequently, using an [`independent`](#independent_explanation) stored interface will keep you from having to wait on unnecessary `login()` calls. \n",
    " \n",
    " #### Note: Either of the above `Interface` subclasses are fine for concurrent api calls in most sitations. For a `LiveInterface` make a few independent ones and run the scripts that invoke them at the same time. For a `StoredInterface`, make one independent and the rest dependent. "
   ]
  },
  {
   "cell_type": "markdown",
   "metadata": {},
   "source": [
    "<a id=\"liveinterface\"></a>\n",
    "## Using LiveInterface"
   ]
  },
  {
   "cell_type": "markdown",
   "metadata": {},
   "source": [
    "<a id=\"login_token\"></a>\n",
    "### Generate Login Token"
   ]
  },
  {
   "cell_type": "code",
   "execution_count": 52,
   "metadata": {},
   "outputs": [
    {
     "name": "stdout",
     "output_type": "stream",
     "text": [
      "    New Login Token\n"
     ]
    }
   ],
   "source": [
    "from bullhorn_interface import api\n",
    "interface = api.LiveInterface(username=api.BULLHORN_USERNAME, password=api.BULLHORN_PASSWORD)\n",
    "interface.login()"
   ]
  },
  {
   "cell_type": "markdown",
   "metadata": {},
   "source": [
    "<a id=\"access_token\"></a>\n",
    "### Generate API Token\n",
    "Once you've been granted a login token, you can get a token and url for the rest API."
   ]
  },
  {
   "cell_type": "code",
   "execution_count": 53,
   "metadata": {},
   "outputs": [
    {
     "name": "stdout",
     "output_type": "stream",
     "text": [
      "    New Access Token\n"
     ]
    }
   ],
   "source": [
    "interface.get_api_token()"
   ]
  },
  {
   "cell_type": "markdown",
   "metadata": {},
   "source": [
    "<a id=\"api_call\"></a>\n",
    "### Make API Calls"
   ]
  },
  {
   "cell_type": "code",
   "execution_count": 33,
   "metadata": {
    "scrolled": false
   },
   "outputs": [
    {
     "data": {
      "text/plain": [
       "{'count': 0, 'data': [], 'start': 0, 'total': 0}"
      ]
     },
     "execution_count": 33,
     "metadata": {},
     "output_type": "execute_result"
    }
   ],
   "source": [
    "# Gets info of Cndidate with id:1\n",
    "interface.api_call()"
   ]
  },
  {
   "cell_type": "markdown",
   "metadata": {},
   "source": [
    "If you got something that looks like the above then you are all configured. If you want to know what some queries with real data will look like feel free to play with the below:"
   ]
  },
  {
   "cell_type": "code",
   "execution_count": 32,
   "metadata": {},
   "outputs": [
    {
     "data": {
      "text/plain": [
       "{'_score': 1.0,\n",
       " 'comments': '',\n",
       " 'firstName': 'John-Paul',\n",
       " 'id': 425082,\n",
       " 'lastName': 'Jorissen',\n",
       " 'middleName': None,\n",
       " 'notes': {'data': [], 'total': 0}}"
      ]
     },
     "execution_count": 32,
     "metadata": {},
     "output_type": "execute_result"
    }
   ],
   "source": [
    "first, last = \"John-Paul\", \"Jorissen\"\n",
    "qs = f\"firstName:{first} AND lastName:{last}\"\n",
    "interface.api_call(query=qs)['data'][0]"
   ]
  },
  {
   "cell_type": "markdown",
   "metadata": {},
   "source": [
    "## Using StoredInterface"
   ]
  },
  {
   "cell_type": "markdown",
   "metadata": {},
   "source": [
    "If you for [some reason](#storedinterface_reasons) need (or want) to keep your tokens stored in a database, you can use the stored interface."
   ]
  },
  {
   "cell_type": "code",
   "execution_count": 42,
   "metadata": {
    "collapsed": true
   },
   "outputs": [],
   "source": [
    "interface = api.StoredInterface(username=api.BULLHORN_USERNAME, password=api.BULLHORN_PASSWORD)"
   ]
  },
  {
   "cell_type": "markdown",
   "metadata": {},
   "source": [
    "You interact with everything the same way as the `LiveInterface` setup."
   ]
  },
  {
   "cell_type": "code",
   "execution_count": 43,
   "metadata": {},
   "outputs": [
    {
     "name": "stdout",
     "output_type": "stream",
     "text": [
      "    New Login Token\n",
      "    New Access Token\n"
     ]
    },
    {
     "data": {
      "text/plain": [
       "{'count': 0, 'data': [], 'start': 0, 'total': 0}"
      ]
     },
     "execution_count": 43,
     "metadata": {},
     "output_type": "execute_result"
    }
   ],
   "source": [
    "interface.login()\n",
    "interface.get_api_token()\n",
    "# there is basically no reason to manually invoke refresh_token(); api_call() will handle expired tokens \n",
    "# for you. \n",
    "interface.refresh_token()\n",
    "interface.api_call()"
   ]
  },
  {
   "cell_type": "markdown",
   "metadata": {},
   "source": [
    "<a id=\"independent_explanation\"></a>\n",
    "There is one difference here, however. You can make your `StoredInterface` objects independent. This means that they will not login or refresh tokens on their own; they will instead be relying on a lead `StoredInterface` to keep tokens fresh. For a demonstration run 1 and 2 in separate python command prompts."
   ]
  },
  {
   "cell_type": "code",
   "execution_count": 40,
   "metadata": {
    "scrolled": false
   },
   "outputs": [
    {
     "name": "stdout",
     "output_type": "stream",
     "text": [
      "    New Login Token\n",
      "    New Access Token\n",
      "    Token Expired. Attempt 1/10 failed.\n"
     ]
    },
    {
     "data": {
      "text/plain": [
       "{'_score': 1.0,\n",
       " 'comments': '',\n",
       " 'firstName': 'John-Paul',\n",
       " 'id': 425082,\n",
       " 'lastName': 'Jorissen',\n",
       " 'middleName': None,\n",
       " 'notes': {'data': [], 'total': 0}}"
      ]
     },
     "execution_count": 40,
     "metadata": {},
     "output_type": "execute_result"
    }
   ],
   "source": [
    "from bullhorn_interface import api\n",
    "first, last = \"John-Paul\", \"Jorissen\"\n",
    "qs = f\"firstName:{first} AND lastName:{last}\"\n",
    "lead_interface = api.StoredInterface(username=api.BULLHORN_USERNAME, password=api.BULLHORN_PASSWORD)\n",
    "dependent_interface = api.StoredInterface(username=api.BULLHORN_USERNAME, password=api.BULLHORN_PASSWORD, \n",
    "                                             independent=False)\n",
    "lead_interface.login()\n",
    "lead_interface.get_api_token()\n",
    "# using the tokens that lead_interface aquired\n",
    "dependent_interface.api_call(query=qs)\n",
    "# forcing the dependent interface to think the token on its person has expired\n",
    "dependent_interface.login_token['expiry'] = 0\n",
    "# the interface will now check itself and find that it's token has expired. after the first failure, it will \n",
    "# check the database to see if an independent interface has put in a token that has not expired.\n",
    "dependent_interface.api_call(query=qs)['data'][0]"
   ]
  },
  {
   "cell_type": "markdown",
   "metadata": {},
   "source": [
    "<a id=\"no_plaintext\"></a>\n",
    "### Avoiding Plaintext Passwords\n",
    "\n",
    "If you are a bit squeamish about storing your Bullhorn login credentials in plaintext somewhere on your filesystem there is a workaround for you."
   ]
  },
  {
   "cell_type": "code",
   "execution_count": null,
   "metadata": {
    "collapsed": true
   },
   "outputs": [],
   "source": [
    "import os\n",
    "os.environ['INTERFACE_CONF_FILE'] = '/home/jjorissen/bullhorn_secrets.conf'\n",
    "from bullhorn_interface import api\n",
    "# don't give the interface your password in the config file (leave that field blank)\n",
    "interface = api.LiveInterface(username=\"\", password=\"\")\n",
    "# run login and get the url that will generate a login code for you. YOU MUST RUN IT YOURSELF; VISITING\n",
    "# THE URL FROM THIS TUTORIAL WILL NOT WORK FOR YOU.\n",
    "interface.login()"
   ]
  },
  {
   "cell_type": "markdown",
   "metadata": {},
   "source": [
    "    Credentials not provided. Provide a username/password combination or follow the procedure below: \n",
    "    Paste this URL into browser https://auth.bullhornstaffing.com/oauth/authorize?client_id=YOUCLIENTID&response_type=code \n",
    "    Redirect URL will look like this: http://www.bullhorn.com/?code=YOUR%CODE%WILL%BE%RIGHT%HERE&client_id=YOURCLIENTID."
   ]
  },
  {
   "cell_type": "code",
   "execution_count": 3,
   "metadata": {},
   "outputs": [
    {
     "name": "stdout",
     "output_type": "stream",
     "text": [
      "    New Login Token\n"
     ]
    }
   ],
   "source": [
    "# you can only login with this code once.\n",
    "interface.login(code=\"YOUR%CODE%WILL%BE%RIGHT%HERE\")"
   ]
  },
  {
   "cell_type": "markdown",
   "metadata": {},
   "source": [
    "You can also avoiding storing any other sensitive information in plaintext by omitting them from your configurations (leave the key empty) file and manually adding it to the `Interface` and `api.tokenbox` like shown below:"
   ]
  },
  {
   "cell_type": "code",
   "execution_count": null,
   "metadata": {
    "collapsed": true
   },
   "outputs": [],
   "source": [
    "from tokenbox import TokenBox\n",
    "api.tokenbox = TokenBox('username', 'password', 'db_name', api.metadata, db_host='localhost', \n",
    "                        use_sqlite=True, **api.table_definitions)\n",
    "interface.client_id = \"I%am%your%client%ID\"\n",
    "interface.client_secret = \"I%am%your%client%secret\"\n",
    "interface.login()"
   ]
  },
  {
   "cell_type": "markdown",
   "metadata": {},
   "source": [
    "# API Parameters\n",
    "Now with your interfaces in order, you can make API calls. This will all be done with `interface.api_call`. You'll need to look over the Bullhorn API Reference Material to know what the heck everything below is about.\n",
    "\n",
    "* [API Reference](http://bullhorn.github.io/rest-api-docs/)\n",
    "* [Entity Guide](http://bullhorn.github.io/rest-api-docs/entityref.html)\n",
    "\n",
    "`api_call` key-word arguments:\n",
    "\n",
    "* `command` (`str`) designates which Bullhorn API command type is being used. Valid options are\n",
    "\t* `command=\"search\"` \n",
    "\t\t* Will return default fields unless `select_fields` is set\n",
    "\t* `command=\"query\"`\n",
    "\t\t* Will return default fields unless `select_fields` is set\n",
    "\t\t* Must designate a where clause using `kwargs={'where': WHERE_CLAUSE}`\n",
    "\t\t* Can designate other API parameters using `kwargs` such as `kwargs={. . ., 'orderBy': 'id'}`\n",
    "\t* `command=\"entity\"`\n",
    "\t\t* Must be used in conjunction with approprate `method`, `entity`, and `query` or `entity_id`.\n",
    "* `query` (`str`) allows you to designate an SQL style `WHERE` clause when using `command=\"search\"`.\n",
    "* `entity` (`str`) designates which [type of entity](http://bullhorn.github.io/rest-api-docs/entityref.html) will be selected, created, or updated.\n",
    "\t* Must use `method=\"CREATE\"` or `method=\"UPDATE\"` or `method=\"GET\"`.\n",
    "* `method` (`str`) designates which HTTP method will be used to carry out the request. `\"UPDATE\"` corresponds to `POST`, `\"CREATE\"` corresponds to `PUT`, and `\"GET\"` corresponds to `GET`. It is unnecessary to specify `method` for `command=\"seach\"` or `command=\"query\"`, but it is necessary to specify `method` for `command=\"entity\"`.\n",
    "* `entity_id` (`str`) designates the id of the desired entity if `query` is not set.\n",
    "* `select_fields` (`str` or `list`) designates which bullhorn fields will be present in the API response.\n",
    "    * `select_fields=[\"id\", \"firstName\", \"middleName\", \"lastName\", \"comments\", \"notes(*)\"]`\n",
    "    * `select_fields=\"id, firstName, middleName, lastName, comments, notes(*)\"`\n",
    "* `body` allows you to pass a request body. This is necessary when updating or creating an entity, for example.\n",
    "*  `auto_refresh` (`bool`) defaults to `True`. This argument designates whether or you wish to extend the lifetime of your tokens before carrying out the API call. If you set this to `False` (because refreshing tokens is time consuming), you will need to implement your own logic to ensure that your tokens are being refreshed at least every ten minutes.\n",
    "\n",
    "Any other keyword arguemnts will be passed as API parameters when making an API call.\n"
   ]
  },
  {
   "cell_type": "markdown",
   "metadata": {},
   "source": [
    "## Example Usage\n",
    "By default, `api_call()` will do a search on the candidate corresponding to `id:1` and return the API response object. It will refresh your tokens automatically.\n",
    "\n",
    "For testing purposes, `api_call()` with no passed arguments is equivalent to"
   ]
  },
  {
   "cell_type": "code",
   "execution_count": null,
   "metadata": {
    "collapsed": true
   },
   "outputs": [],
   "source": [
    "api_call(command=\"search\", entity=\"Candidate\", query=\"id:1\",\n",
    "         select_fields=\"id, firstName, middleName, lastName, comments, notes(*)\",\n",
    "         auto_refresh=True)"
   ]
  },
  {
   "cell_type": "markdown",
   "metadata": {},
   "source": [
    "##### Get Candidate IDs (and comments) by first and last name"
   ]
  },
  {
   "cell_type": "code",
   "execution_count": 60,
   "metadata": {},
   "outputs": [
    {
     "name": "stdout",
     "output_type": "stream",
     "text": [
      "[{'id': 425084, 'comments': 'I am the old comment', '_score': 1.0}]\n"
     ]
    }
   ],
   "source": [
    "first_name, last_name = \"John-Paul\", \"Jorissen\"\n",
    "\n",
    "def get_candidate_id(first_name, last_name):\n",
    "       return interface.api_call(command=\"search\", entity=\"Candidate\", select_fields=[\"id\", \"comments\"],\n",
    "                       query=f\"firstName:{first_name} AND lastName:{last_name}\")\n",
    "\n",
    "candidate = get_candidate_id(first_name, last_name)['data']\n",
    "print(list(filter(lambda x: x['id'] == 425084, candidate)))"
   ]
  },
  {
   "cell_type": "markdown",
   "metadata": {},
   "source": [
    "##### Update a Candidate's comments"
   ]
  },
  {
   "cell_type": "code",
   "execution_count": 64,
   "metadata": {},
   "outputs": [
    {
     "data": {
      "text/plain": [
       "{'changeType': 'UPDATE',\n",
       " 'changedEntityId': 425084,\n",
       " 'changedEntityType': 'Candidate',\n",
       " 'data': {'comments': 'I am the new comment'}}"
      ]
     },
     "execution_count": 64,
     "metadata": {},
     "output_type": "execute_result"
    }
   ],
   "source": [
    "candidate_id = 425084\n",
    "comments = 'I am the new comment'\n",
    "body = {\"comments\": comments}\n",
    "interface.api_call(command=\"entity\", entity=\"Candidate\", entity_id=candidate_id, body=body, method=\"UPDATE\")"
   ]
  },
  {
   "cell_type": "code",
   "execution_count": 65,
   "metadata": {},
   "outputs": [
    {
     "name": "stdout",
     "output_type": "stream",
     "text": [
      "[{'id': 425084, 'comments': 'I am the new comment', '_score': 1.0}]\n"
     ]
    }
   ],
   "source": [
    "print(list(filter(lambda x: x['id'] == 425084, get_candidate_id(first_name, last_name)['data'])))"
   ]
  },
  {
   "cell_type": "markdown",
   "metadata": {},
   "source": [
    "# Questions\n",
    "Feel free to contact me with questions and suggestions of improvements. Contributions are greatly appreciated.\n",
    "\n",
    "[jjorissen52@gmail.com](mailto:jjorissen52@gmail.com?subject=bullhorn_interface - )"
   ]
  },
  {
   "cell_type": "code",
   "execution_count": null,
   "metadata": {
    "collapsed": true
   },
   "outputs": [],
   "source": []
  }
 ],
 "metadata": {
  "kernelspec": {
   "display_name": "Python (bullhorn)",
   "language": "python",
   "name": "bullhorn"
  },
  "language_info": {
   "codemirror_mode": {
    "name": "ipython",
    "version": 3
   },
   "file_extension": ".py",
   "mimetype": "text/x-python",
   "name": "python",
   "nbconvert_exporter": "python",
   "pygments_lexer": "ipython3",
   "version": "3.6.2"
  }
 },
 "nbformat": 4,
 "nbformat_minor": 2
}
