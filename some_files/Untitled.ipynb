{
 "cells": [
  {
   "cell_type": "code",
   "execution_count": 27,
   "metadata": {
    "collapsed": true
   },
   "outputs": [],
   "source": [
    "import datetime\n",
    "import json\n",
    "import requests\n",
    "import urllib\n",
    "from operator import xor\n",
    "from bullhorn_interface.api import login\n",
    "from bullhorn_interface.helpers import set_conf, set_secrets\n",
    "from bullhorn_interface.settings.settings import CLIENT_ID, CLIENT_SECRET, SETTINGS_DIR"
   ]
  },
  {
   "cell_type": "code",
   "execution_count": 34,
   "metadata": {},
   "outputs": [],
   "source": [
    "def login(username=\"\", password=\"\", client_id=CLIENT_ID, client_secret=CLIENT_SECRET, code=\"\"):\n",
    "    base_url = \"https://auth.bullhornstaffing.com/oauth\"\n",
    "    example_redirect_url = [\"http://www.bullhorn.com/?code=\",\n",
    "                            \"{YOUR CODE WILL BE RIGHT HERE}\",\n",
    "                            f\"&client_id={client_id}\"]\n",
    "\n",
    "    if not code and not (username and password):\n",
    "        print(f\"Credentials not provided. Provide a username/password combination or follow the procedure below: \\n\"\n",
    "              f\"Paste this URL into browser {base_url}/authorize?client_id={client_id}&response_type=code \\n\"\n",
    "              f\"Redirect URL will look like this: {''.join(example_redirect_url)}.\\n\")\n",
    "\n",
    "    elif code:\n",
    "        try:\n",
    "            params = {\n",
    "                \"client_secret\": client_secret,\n",
    "                \"client_id\": client_id\n",
    "            }\n",
    "            url = f\"{base_url}/token?code={code}\"\n",
    "            response = requests.post(url, params=params)\n",
    "            login_token = json.loads(response.text)\n",
    "            login_token['expiry'] = datetime.datetime.now().timestamp() + login_token[\"expires_in\"]\n",
    "            insert_token('login_token', login_token, )\n",
    "            print(f\"New Access Token: {login_token['access_token']}\")\n",
    "        except KeyError:\n",
    "            print(f'Response from API: {login_token}')\n",
    "            print(f'Is your token expired? Are your secrets properly configured?')\n",
    "\n",
    "    elif xor(bool(username), bool(password)):\n",
    "        print(\"You must provide both a username and a password.\")\n",
    "\n",
    "    else:\n",
    "        params = {\n",
    "            \"client_id\": client_id,\n",
    "            \"response_type\": \"code\",\n",
    "            \"username\": username,\n",
    "            \"password\": password,\n",
    "            \"action\": \"Login\",\n",
    "        }\n",
    "        url = f\"{base_url}/authorize\"\n",
    "        response = requests.post(url, params=params)\n",
    "        url_params = requests.utils.urlparse(response.url).query\n",
    "        code = urllib.parse.parse_qs(url_params).get(\"code\")\n",
    "        try:\n",
    "            params = {\n",
    "                \"client_secret\": client_secret,\n",
    "                \"client_id\": client_id,\n",
    "                \"grant_type\": \"authorization_code\",\n",
    "                \"code\": code\n",
    "            }\n",
    "            url = f\"{base_url}/token\"\n",
    "            response = requests.post(url, params=params)\n",
    "            login_token = json.loads(response.text)\n",
    "            login_token['expiry'] = datetime.datetime.now().timestamp() + login_token[\"expires_in\"]\n",
    "            insert_token('login_token', login_token, )\n",
    "            print(f\"New Access Token: {login_token['access_token']}\")\n",
    "        except KeyError:\n",
    "            print(f'Response from API: {login_token}')\n",
    "            print(f'Is your token expired? Are your secrets properly configured?')"
   ]
  },
  {
   "cell_type": "code",
   "execution_count": null,
   "metadata": {
    "collapsed": true
   },
   "outputs": [],
   "source": []
  }
 ],
 "metadata": {
  "kernelspec": {
   "display_name": "Python (bullhorn)",
   "language": "python",
   "name": "bullhorn"
  },
  "language_info": {
   "codemirror_mode": {
    "name": "ipython",
    "version": 3
   },
   "file_extension": ".py",
   "mimetype": "text/x-python",
   "name": "python",
   "nbconvert_exporter": "python",
   "pygments_lexer": "ipython3",
   "version": "3.6.2"
  }
 },
 "nbformat": 4,
 "nbformat_minor": 2
}
